{
  "cells": [
    {
      "cell_type": "code",
      "execution_count": 1,
      "metadata": {
        "colab": {
          "base_uri": "https://localhost:8080/"
        },
        "id": "A5vJZ7FSz-Hj",
        "outputId": "e74734d6-7192-42d1-e115-4638ecfa7540"
      },
      "outputs": [],
      "source": [
        "import pandas as pd\n",
        "#from google.colab import drive\n",
        "import os\n",
        "from pathlib import Path\n",
        "\n",
        "# 1. Mount Google Drive\n",
        "#drive.mount('/content/drive')\n"
      ]
    },
    {
      "cell_type": "code",
      "execution_count": 4,
      "metadata": {
        "id": "91I3Uq4lFFS4"
      },
      "outputs": [],
      "source": [
        "import pandas as pd\n",
        "\n",
        "def clean_patient_csv(filepath, sep=\";\"):\n",
        "    \"\"\"\n",
        "    Clean a single patient CSV:\n",
        "    - Parse time & sort\n",
        "    - Drop duplicate timestamps\n",
        "    - Fix numeric data types\n",
        "    - Remove impossible negative values\n",
        "    - Flag but don't drop outliers (glucose, heart rate)\n",
        "\n",
        "    Returns a cleaned pandas DataFrame.\n",
        "    \"\"\"\n",
        "\n",
        "    # Load file\n",
        "    df = pd.read_csv(filepath, sep=sep)\n",
        "    #usha\n",
        "    # 1. Parse datetime and sort\n",
        "    df['time'] = pd.to_datetime(df['time'], errors='coerce')\n",
        "    df = df.drop_duplicates(subset=['time']).sort_values('time').reset_index(drop=True)\n",
        "    #Lakshmi\n",
        "    # 2. Fix numeric data types\n",
        "    if 'glucose' in df.columns:\n",
        "        df['glucose'] = df['glucose'].round().astype('Int64')\n",
        "    if 'heart_rate' in df.columns:\n",
        "        df['heart_rate'] = df['heart_rate'].round().astype('Int64')\n",
        "    if 'calories' in df.columns:\n",
        "        df['calories'] = df['calories'].round(1)\n",
        "    if 'steps' in df.columns:\n",
        "        df['steps'] = df['steps'].round().astype('Int64')\n",
        "    if 'basal_rate' in df.columns:\n",
        "        df['basal_rate'] = df['basal_rate'].round(3)\n",
        "    if 'bolus_volume_delivered' in df.columns:\n",
        "        df['bolus_volume_delivered'] = df['bolus_volume_delivered'].round(1)\n",
        "    if 'carb_input' in df.columns:\n",
        "        df['carb_input'] = df['carb_input'].round().astype('Int64')\n",
        "    #Gauri\n",
        "    # 3. Remove impossible negatives\n",
        "    for col in ['glucose','calories','steps','basal_rate','bolus_volume_delivered','carb_input','heart_rate']:\n",
        "        if col in df.columns:\n",
        "            df.loc[df[col] < 0, col] = df.loc[df[col] < 0, col].abs()# convert to positive based on the other columns values/entries\n",
        "    #Joshna\n",
        "    # 4. Flag outliers (keep them for analysis)\n",
        "    if 'glucose' in df.columns:\n",
        "        df['flag_glucose_outlier'] = (df['glucose'] < 40) | (df['glucose'] > 400)\n",
        "    if 'heart_rate' in df.columns:\n",
        "        df['flag_hr_outlier'] = (df['heart_rate'] < 30) | (df['heart_rate'] > 220)\n",
        "    # Basal rate flags\n",
        "    if 'basal_rate' in df.columns:\n",
        "        df['flag_basal_outlier'] = (df['basal_rate'] < 0) | (df['basal_rate'] > 5)\n",
        "      # Bolus volume flags\n",
        "    if 'bolus_volume_delivered' in df.columns:\n",
        "        df['flag_bolus_outlier'] = (df['bolus_volume_delivered'] < 0) | (df['bolus_volume_delivered'] > 25)\n",
        "\n",
        "    return df\n"
      ]
    },
    {
      "cell_type": "code",
      "execution_count": 13,
      "metadata": {
        "colab": {
          "base_uri": "https://localhost:8080/"
        },
        "id": "cV3t9Itcirhu",
        "outputId": "e14224e5-311f-49fa-bda5-803310bb299e"
      },
      "outputs": [],
      "source": [
        "from tabulate import tabulate\n",
        "# Folder containing your patient CSVs\n",
        "folder = Path(\"HUPA-UC Diabetes Dataset\")\n",
        "summary=[]\n",
        "# Loop through all files starting with \"HUP\"\n",
        "for f in folder.glob(\"HUP*.csv\"):\n",
        "    print(f\"\\n=== Processing {f.name} ===\")\n",
        "\n",
        "    # Clean the file\n",
        "    df_clean = clean_patient_csv(f)\n",
        "    outlier_counts = {\n",
        "        \"file\": f.name,\n",
        "        \"glucose_outliers\": df_clean['flag_glucose_outlier'].sum(),\n",
        "        \"hr_outliers\": df_clean['flag_hr_outlier'].sum(),\n",
        "        \"basal_outliers\": df_clean['flag_basal_outlier'].sum(),\n",
        "        \"bolus_outliers\": df_clean['flag_bolus_outlier'].sum(),\n",
        "        \"rows\": len(df_clean)\n",
        "    }\n",
        "    summary.append(outlier_counts)\n",
        "\n",
        "    summary_df = pd.DataFrame(summary)\n",
        "    # Print summary info\n",
        "    print(df_clean.info())\n",
        "    print(df_clean['flag_glucose_outlier'].value_counts())\n",
        "    print(df_clean['flag_hr_outlier'].value_counts())\n",
        "     # Check counts\n",
        "    print(df_clean['flag_basal_outlier'].value_counts())\n",
        "    print(df_clean['flag_bolus_outlier'].value_counts())\n",
        "    print(tabulate(df_clean.head(), headers='keys', tablefmt='psql'))"
      ]
    },
    {
      "cell_type": "code",
      "execution_count": 12,
      "metadata": {},
      "outputs": [
        {
          "ename": "NameError",
          "evalue": "name 'summary_df' is not defined",
          "output_type": "error",
          "traceback": [
            "\u001b[0;31m---------------------------------------------------------------------------\u001b[0m",
            "\u001b[0;31mNameError\u001b[0m                                 Traceback (most recent call last)",
            "Cell \u001b[0;32mIn[12], line 3\u001b[0m\n\u001b[1;32m      1\u001b[0m \u001b[38;5;28;01mimport\u001b[39;00m\u001b[38;5;250m \u001b[39m\u001b[38;5;21;01mmatplotlib\u001b[39;00m\u001b[38;5;21;01m.\u001b[39;00m\u001b[38;5;21;01mpyplot\u001b[39;00m\u001b[38;5;250m \u001b[39m\u001b[38;5;28;01mas\u001b[39;00m\u001b[38;5;250m \u001b[39m\u001b[38;5;21;01mplt\u001b[39;00m\n\u001b[0;32m----> 3\u001b[0m summary_df\u001b[38;5;241m.\u001b[39mset_index(\u001b[38;5;124m\"\u001b[39m\u001b[38;5;124mfile\u001b[39m\u001b[38;5;124m\"\u001b[39m)[[\u001b[38;5;124m\"\u001b[39m\u001b[38;5;124mglucose_outliers\u001b[39m\u001b[38;5;124m\"\u001b[39m,\u001b[38;5;124m\"\u001b[39m\u001b[38;5;124mhr_outliers\u001b[39m\u001b[38;5;124m\"\u001b[39m,\n\u001b[1;32m      4\u001b[0m                               \u001b[38;5;124m\"\u001b[39m\u001b[38;5;124mbasal_outliers\u001b[39m\u001b[38;5;124m\"\u001b[39m,\u001b[38;5;124m\"\u001b[39m\u001b[38;5;124mbolus_outliers\u001b[39m\u001b[38;5;124m\"\u001b[39m]]\u001b[38;5;241m.\u001b[39mplot(\n\u001b[1;32m      5\u001b[0m     kind\u001b[38;5;241m=\u001b[39m\u001b[38;5;124m\"\u001b[39m\u001b[38;5;124mbar\u001b[39m\u001b[38;5;124m\"\u001b[39m, figsize\u001b[38;5;241m=\u001b[39m(\u001b[38;5;241m12\u001b[39m,\u001b[38;5;241m6\u001b[39m), stacked\u001b[38;5;241m=\u001b[39m\u001b[38;5;28;01mFalse\u001b[39;00m\n\u001b[1;32m      6\u001b[0m )\n\u001b[1;32m      8\u001b[0m plt\u001b[38;5;241m.\u001b[39mtitle(\u001b[38;5;124m\"\u001b[39m\u001b[38;5;124mOutlier Counts per Patient File\u001b[39m\u001b[38;5;124m\"\u001b[39m)\n\u001b[1;32m      9\u001b[0m plt\u001b[38;5;241m.\u001b[39mylabel(\u001b[38;5;124m\"\u001b[39m\u001b[38;5;124mCount of Outliers\u001b[39m\u001b[38;5;124m\"\u001b[39m)\n",
            "\u001b[0;31mNameError\u001b[0m: name 'summary_df' is not defined"
          ]
        }
      ],
      "source": [
        "import matplotlib.pyplot as plt\n",
        "\n",
        "summary_df.set_index(\"file\")[[\"glucose_outliers\",\"hr_outliers\",\n",
        "                              \"basal_outliers\",\"bolus_outliers\"]].plot(\n",
        "    kind=\"bar\", figsize=(12,6), stacked=False\n",
        ")\n",
        "\n",
        "plt.title(\"Outlier Counts per Patient File\")\n",
        "plt.ylabel(\"Count of Outliers\")\n",
        "plt.xlabel(\"Patient File\")\n",
        "plt.xticks(rotation=45, ha='right')\n",
        "plt.legend(title=\"Outlier Type\")\n",
        "plt.tight_layout()\n",
        "plt.show()\n"
      ]
    }
  ],
  "metadata": {
    "colab": {
      "provenance": []
    },
    "kernelspec": {
      "display_name": "Python 3",
      "name": "python3"
    },
    "language_info": {
      "codemirror_mode": {
        "name": "ipython",
        "version": 3
      },
      "file_extension": ".py",
      "mimetype": "text/x-python",
      "name": "python",
      "nbconvert_exporter": "python",
      "pygments_lexer": "ipython3",
      "version": "3.13.5"
    }
  },
  "nbformat": 4,
  "nbformat_minor": 0
}
